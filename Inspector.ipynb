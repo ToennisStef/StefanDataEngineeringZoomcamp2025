{
 "cells": [
  {
   "cell_type": "code",
   "execution_count": null,
   "metadata": {},
   "outputs": [],
   "source": []
  },
  {
   "cell_type": "code",
   "execution_count": null,
   "metadata": {},
   "outputs": [],
   "source": [
    "import requests\n",
    "\n",
    "url = \"https://d37ci6vzurychx.cloudfront.net/trip-data/green_tripdata_2019-10.parquet\"\n",
    "response = requests.get(url)\n",
    "\n",
    "with open(\"green_tripdata_2019-10.parquet\", \"wb\") as file:\n",
    "    file.write(response.content)"
   ]
  },
  {
   "cell_type": "code",
   "execution_count": 4,
   "metadata": {},
   "outputs": [
    {
     "name": "stdout",
     "output_type": "stream",
     "text": [
      "   VendorID lpep_pickup_datetime lpep_dropoff_datetime store_and_fwd_flag  \\\n",
      "0         2  2019-10-01 00:26:02   2019-10-01 00:39:58                  N   \n",
      "\n",
      "   RatecodeID  PULocationID  DOLocationID  passenger_count  trip_distance  \\\n",
      "0         1.0           112           196              1.0           5.88   \n",
      "\n",
      "   fare_amount  extra  mta_tax  tip_amount  tolls_amount ehail_fee  \\\n",
      "0         18.0    0.5      0.5         0.0           0.0      None   \n",
      "\n",
      "   improvement_surcharge  total_amount  payment_type  trip_type  \\\n",
      "0                    0.3          19.3           2.0        1.0   \n",
      "\n",
      "   congestion_surcharge  \n",
      "0                   0.0  \n"
     ]
    }
   ],
   "source": [
    "import pandas as pd\n",
    "\n",
    "df = pd.read_parquet(\"green_tripdata_2019-10.parquet\")\n",
    "df_head = df.head(1)\n",
    "print(df_head)"
   ]
  }
 ],
 "metadata": {
  "kernelspec": {
   "display_name": "Python 3",
   "language": "python",
   "name": "python3"
  },
  "language_info": {
   "codemirror_mode": {
    "name": "ipython",
    "version": 3
   },
   "file_extension": ".py",
   "mimetype": "text/x-python",
   "name": "python",
   "nbconvert_exporter": "python",
   "pygments_lexer": "ipython3",
   "version": "3.12.1"
  }
 },
 "nbformat": 4,
 "nbformat_minor": 2
}
